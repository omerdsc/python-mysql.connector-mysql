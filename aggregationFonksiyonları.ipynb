{
 "cells": [
  {
   "cell_type": "code",
   "execution_count": 17,
   "id": "685a57e8-01c1-4922-a63e-c646fb97dcfc",
   "metadata": {},
   "outputs": [
    {
     "name": "stdout",
     "output_type": "stream",
     "text": [
      "id:('samsung s8',) \n"
     ]
    }
   ],
   "source": [
    "import mysql.connector\n",
    "\n",
    "def getProductsInfo():\n",
    "    connection = mysql.connector.connect(\n",
    "        host=\"localhost\",\n",
    "        user=\"root\",\n",
    "        password=\"2121\",\n",
    "        database=\"node-app\"\n",
    "    )\n",
    "    cursor = connection.cursor()\n",
    "\n",
    "    #sql=\"SELECT count(*) as adet,sum(price),avg(price),min(price),max(price) as toplam FROM products where price>2000 \"\n",
    "\n",
    "    sql=\"select name from products where price=(select max(price) from products)\"\n",
    "    \n",
    "    cursor.execute(sql)   \n",
    "    \n",
    "    result=cursor.fetchone()\n",
    "    \n",
    "    print(f\"id:{result} \")\n",
    "\n",
    "    cursor.close()\n",
    "    connection.close()\n",
    "\n",
    "getProductsInfo()"
   ]
  },
  {
   "cell_type": "code",
   "execution_count": null,
   "id": "f2365d33-f6bd-4a09-9876-2a33ccfa819e",
   "metadata": {},
   "outputs": [],
   "source": []
  }
 ],
 "metadata": {
  "kernelspec": {
   "display_name": "Python 3 (ipykernel)",
   "language": "python",
   "name": "python3"
  },
  "language_info": {
   "codemirror_mode": {
    "name": "ipython",
    "version": 3
   },
   "file_extension": ".py",
   "mimetype": "text/x-python",
   "name": "python",
   "nbconvert_exporter": "python",
   "pygments_lexer": "ipython3",
   "version": "3.12.7"
  }
 },
 "nbformat": 4,
 "nbformat_minor": 5
}
