{
 "cells": [
  {
   "cell_type": "code",
   "execution_count": 1,
   "id": "7f61f3c2-0811-4272-8f58-2a536d76a463",
   "metadata": {},
   "outputs": [],
   "source": [
    "import mysql.connector"
   ]
  },
  {
   "cell_type": "code",
   "execution_count": 3,
   "id": "69eef178-d11a-4bb0-bd11-734d556cacea",
   "metadata": {},
   "outputs": [
    {
     "name": "stdin",
     "output_type": "stream",
     "text": [
      "Ürün Adı:  samsung s7\n",
      "Ürün Fiyatı:  3000\n",
      "Resim Url:  1.jpg\n",
      "Ürün Açıklaması:  iyi\n",
      "Devam Etmek İstiyormusunuz(e/h) e\n",
      "Ürün Adı:  samsung s8\n",
      "Ürün Fiyatı:  5000\n",
      "Resim Url:  2.jpg\n",
      "Ürün Açıklaması:  iyi\n",
      "Devam Etmek İstiyormusunuz(e/h) h\n"
     ]
    },
    {
     "name": "stdout",
     "output_type": "stream",
     "text": [
      "Kayıtlarınız Veri tabanına Aktarılıyor\n",
      "[('samsung s7', 3000.0, '1.jpg', 'iyi'), ('samsung s8', 5000.0, '2.jpg', 'iyi')]\n",
      "2 tane kayıt eklendi\n",
      "son eklenen kaydın id: 7\n",
      "database bağlantısı kapandı\n"
     ]
    }
   ],
   "source": [
    "def insertProduct(name,price,imageUrl,description):\n",
    "    connection=mysql.connector.connect(\n",
    "        host=\"localhost\",\n",
    "        user=\"root\",\n",
    "        password=\"2121\",\n",
    "        database=\"node-app\"\n",
    "    )\n",
    "    cursor=connection.cursor()\n",
    "\n",
    "    sql= \"INSERT INTO products(name,price,imageUrl,description) VALUES(%s,%s,%s,%s)\"\n",
    "    values=(name,price,imageUrl,description)\n",
    "\n",
    "    cursor.execute(sql,values) # değerleri veriyoruz\n",
    "\n",
    "    try:\n",
    "        connection.commit() # doğru bir şekilde database aktarıyor\n",
    "        print(f\"{cursor.rowcount} tane kayıt eklendi\") # kaç ane kayıt eklendiğini görürüz\n",
    "        print(f\"son eklenen kaydın id: {cursor.lastrowid}\") #son eklenen kaydın id numarasını bize getirir\n",
    "    except mysql.connector.Error as err:\n",
    "        print(\"hata\",err)\n",
    "    finally:\n",
    "        connection.close()\n",
    "        print(\"database bağlantısı kapandı\")\n",
    "\n",
    "def insertProducts(list):\n",
    "    connection=mysql.connector.connect(\n",
    "        host=\"localhost\",\n",
    "        user=\"root\",\n",
    "        password=\"2121\",\n",
    "        database=\"node-app\"\n",
    "    )\n",
    "    cursor=connection.cursor()\n",
    "\n",
    "    sql= \"INSERT INTO products(name,price,imageUrl,description) VALUES(%s,%s,%s,%s)\"\n",
    "    values=list\n",
    "\n",
    "    cursor.executemany(sql,values) #çoğul bir şekilde eklediğimizi belirtiyoruz\n",
    "\n",
    "    try:\n",
    "        connection.commit() # doğru bir şekilde database aktarıyor\n",
    "        print(f\"{cursor.rowcount} tane kayıt eklendi\") # kaç ane kayıt eklendiğini görürüz\n",
    "        print(f\"son eklenen kaydın id: {cursor.lastrowid}\") #son eklenen kaydın id numarasını bize getirir\n",
    "    except mysql.connector.Error as err:\n",
    "        print(\"hata\",err)\n",
    "    finally:\n",
    "        connection.close()\n",
    "        print(\"database bağlantısı kapandı\")\n",
    "\n",
    "list=[]\n",
    "\n",
    "while True:\n",
    "    name=input(\"Ürün Adı: \")\n",
    "    price=float(input(\"Ürün Fiyatı: \"))\n",
    "    imageUrl=input(\"Resim Url: \")\n",
    "    description=input(\"Ürün Açıklaması: \")\n",
    "\n",
    "    list.append((name,price,imageUrl,description))\n",
    "    #insertProduct(name , price, imageUrl, description)\n",
    "\n",
    "    result=input(\"Devam Etmek İstiyormusunuz(e/h)\")\n",
    "    if result==\"h\":\n",
    "        print(\"Kayıtlarınız Veri tabanına Aktarılıyor\")\n",
    "        print(list)\n",
    "        insertProducts(list)\n",
    "        break"
   ]
  },
  {
   "cell_type": "code",
   "execution_count": null,
   "id": "8a3d5146-8395-4358-993c-9f0ec386ef9c",
   "metadata": {},
   "outputs": [],
   "source": [
    "samsung s7\n",
    "3000\n",
    "1.jpg\n",
    "iyi "
   ]
  },
  {
   "cell_type": "code",
   "execution_count": null,
   "id": "465503c0-d9fe-4d75-b8e9-6f51c9dcb987",
   "metadata": {},
   "outputs": [],
   "source": [
    "samsung s8\n",
    "5000\n",
    "2.jpg\n",
    "iyi"
   ]
  }
 ],
 "metadata": {
  "kernelspec": {
   "display_name": "Python 3 (ipykernel)",
   "language": "python",
   "name": "python3"
  },
  "language_info": {
   "codemirror_mode": {
    "name": "ipython",
    "version": 3
   },
   "file_extension": ".py",
   "mimetype": "text/x-python",
   "name": "python",
   "nbconvert_exporter": "python",
   "pygments_lexer": "ipython3",
   "version": "3.12.7"
  }
 },
 "nbformat": 4,
 "nbformat_minor": 5
}
