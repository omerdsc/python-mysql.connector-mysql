{
 "cells": [
  {
   "cell_type": "code",
   "execution_count": 2,
   "id": "318491bd-16c9-4afd-a0ed-1bbe3a72d00a",
   "metadata": {},
   "outputs": [
    {
     "name": "stdout",
     "output_type": "stream",
     "text": [
      "('samsung s6', Decimal('2000'))\n"
     ]
    },
    {
     "ename": "InternalError",
     "evalue": "Unread result found",
     "output_type": "error",
     "traceback": [
      "\u001b[1;31m---------------------------------------------------------------------------\u001b[0m",
      "\u001b[1;31mInternalError\u001b[0m                             Traceback (most recent call last)",
      "Cell \u001b[1;32mIn[2], line 71\u001b[0m\n\u001b[0;32m     68\u001b[0m     connection\u001b[38;5;241m.\u001b[39mclose()\n\u001b[0;32m     70\u001b[0m \u001b[38;5;66;03m# Test fonksiyonu:\u001b[39;00m\n\u001b[1;32m---> 71\u001b[0m getProducts()\n",
      "Cell \u001b[1;32mIn[2], line 67\u001b[0m, in \u001b[0;36mgetProducts\u001b[1;34m()\u001b[0m\n\u001b[0;32m     62\u001b[0m \u001b[38;5;28mprint\u001b[39m(cursor\u001b[38;5;241m.\u001b[39mfetchone())\u001b[38;5;66;03m#tek bir kayıt getirir )\u001b[39;00m\n\u001b[0;32m     64\u001b[0m \u001b[38;5;66;03m#for i in result:\u001b[39;00m\n\u001b[0;32m     65\u001b[0m  \u001b[38;5;66;03m#   print(i)\u001b[39;00m\n\u001b[1;32m---> 67\u001b[0m cursor\u001b[38;5;241m.\u001b[39mclose()\n\u001b[0;32m     68\u001b[0m connection\u001b[38;5;241m.\u001b[39mclose()\n",
      "File \u001b[1;32m~\\anaconda3\\Lib\\site-packages\\mysql\\connector\\cursor_cext.py:521\u001b[0m, in \u001b[0;36mCMySQLCursor.close\u001b[1;34m(self)\u001b[0m\n\u001b[0;32m    518\u001b[0m \u001b[38;5;28;01mif\u001b[39;00m \u001b[38;5;129;01mnot\u001b[39;00m \u001b[38;5;28mself\u001b[39m\u001b[38;5;241m.\u001b[39m_connection:\n\u001b[0;32m    519\u001b[0m     \u001b[38;5;28;01mreturn\u001b[39;00m \u001b[38;5;28;01mFalse\u001b[39;00m\n\u001b[1;32m--> 521\u001b[0m \u001b[38;5;28mself\u001b[39m\u001b[38;5;241m.\u001b[39m_connection\u001b[38;5;241m.\u001b[39mhandle_unread_result()\n\u001b[0;32m    522\u001b[0m \u001b[38;5;28mself\u001b[39m\u001b[38;5;241m.\u001b[39m_warnings \u001b[38;5;241m=\u001b[39m \u001b[38;5;28;01mNone\u001b[39;00m\n\u001b[0;32m    523\u001b[0m \u001b[38;5;28mself\u001b[39m\u001b[38;5;241m.\u001b[39m_connection \u001b[38;5;241m=\u001b[39m \u001b[38;5;28;01mNone\u001b[39;00m\n",
      "File \u001b[1;32m~\\anaconda3\\Lib\\site-packages\\mysql\\connector\\connection_cext.py:1047\u001b[0m, in \u001b[0;36mCMySQLConnection.handle_unread_result\u001b[1;34m(self, prepared)\u001b[0m\n\u001b[0;32m   1045\u001b[0m     \u001b[38;5;28mself\u001b[39m\u001b[38;5;241m.\u001b[39mconsume_results()\n\u001b[0;32m   1046\u001b[0m \u001b[38;5;28;01melif\u001b[39;00m unread_result:\n\u001b[1;32m-> 1047\u001b[0m     \u001b[38;5;28;01mraise\u001b[39;00m InternalError(\u001b[38;5;124m\"\u001b[39m\u001b[38;5;124mUnread result found\u001b[39m\u001b[38;5;124m\"\u001b[39m)\n",
      "\u001b[1;31mInternalError\u001b[0m: Unread result found"
     ]
    }
   ],
   "source": [
    "import mysql.connector\n",
    "\n",
    "def insertProduct(name, price, imageUrl, description):\n",
    "    connection = mysql.connector.connect(\n",
    "        host=\"localhost\",\n",
    "        user=\"root\",\n",
    "        password=\"2121\",\n",
    "        database=\"node-app\"\n",
    "    )\n",
    "    cursor = connection.cursor()\n",
    "\n",
    "    sql = \"INSERT INTO products(name,price,imageUrl,description) VALUES(%s,%s,%s,%s)\"\n",
    "    values = (name, price, imageUrl, description)\n",
    "\n",
    "    cursor.execute(sql, values)\n",
    "\n",
    "    try:\n",
    "        connection.commit()\n",
    "        print(f\"{cursor.rowcount} tane kayıt eklendi\")\n",
    "        print(f\"Son eklenen kaydın id: {cursor.lastrowid}\")\n",
    "    except mysql.connector.Error as err:\n",
    "        print(\"Hata:\", err)\n",
    "    finally:\n",
    "        connection.close()\n",
    "        print(\"Database bağlantısı kapandı\")\n",
    "\n",
    "def insertProducts(list):\n",
    "    connection = mysql.connector.connect(\n",
    "        host=\"localhost\",\n",
    "        user=\"root\",\n",
    "        password=\"2121\",\n",
    "        database=\"node-app\"\n",
    "    )\n",
    "    cursor = connection.cursor()\n",
    "\n",
    "    sql = \"INSERT INTO products(name,price,imageUrl,description) VALUES(%s,%s,%s,%s)\"\n",
    "    values = list\n",
    "\n",
    "    cursor.executemany(sql, values)\n",
    "\n",
    "    try:\n",
    "        connection.commit()\n",
    "        print(f\"{cursor.rowcount} tane kayıt eklendi\")\n",
    "        print(f\"Son eklenen kaydın id: {cursor.lastrowid}\")\n",
    "    except mysql.connector.Error as err:\n",
    "        print(\"Hata:\", err)\n",
    "    finally:\n",
    "        connection.close()\n",
    "        print(\"Database bağlantısı kapandı\")\n",
    "\n",
    "def getProducts():\n",
    "    connection = mysql.connector.connect(\n",
    "        host=\"localhost\",\n",
    "        user=\"root\",\n",
    "        password=\"2121\",\n",
    "        database=\"node-app\"\n",
    "    )\n",
    "    cursor = connection.cursor()\n",
    "    #cursor.execute(\"SELECT * FROM products\")\n",
    "    cursor.execute(\"select name,price from products\")\n",
    "    #result = cursor.fetchall() #bulduğu tüm kayıtları bize getirir\n",
    "    print(cursor.fetchone())#tek bir kayıt getirir )\n",
    "\n",
    "    #for i in result:\n",
    "     #   print(i)\n",
    "\n",
    "    cursor.close()\n",
    "    connection.close()\n",
    "\n",
    "# Test fonksiyonu:\n",
    "getProducts()\n"
   ]
  },
  {
   "cell_type": "code",
   "execution_count": null,
   "id": "2b627147-4c76-4444-9b07-97715271fbce",
   "metadata": {},
   "outputs": [],
   "source": []
  }
 ],
 "metadata": {
  "kernelspec": {
   "display_name": "Python 3 (ipykernel)",
   "language": "python",
   "name": "python3"
  },
  "language_info": {
   "codemirror_mode": {
    "name": "ipython",
    "version": 3
   },
   "file_extension": ".py",
   "mimetype": "text/x-python",
   "name": "python",
   "nbconvert_exporter": "python",
   "pygments_lexer": "ipython3",
   "version": "3.12.7"
  }
 },
 "nbformat": 4,
 "nbformat_minor": 5
}
