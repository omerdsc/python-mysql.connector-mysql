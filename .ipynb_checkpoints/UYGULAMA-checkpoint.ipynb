{
 "cells": [
  {
   "cell_type": "code",
   "execution_count": 7,
   "id": "1b6161bb-6d83-422b-8ee8-7cbca9f5fd82",
   "metadata": {},
   "outputs": [
    {
     "name": "stdout",
     "output_type": "stream",
     "text": [
      "('103', 'Canan', 'Tan')\n",
      "('104', 'Ayşe', 'Taner')\n",
      "('303', 'Canan', 'Tan')\n",
      "('304', 'Ayşe', 'Taner')\n"
     ]
    }
   ],
   "source": [
    "import mysql.connector\n",
    "\n",
    "def getProductsInfo():\n",
    "    connection = mysql.connector.connect(\n",
    "        host=\"localhost\",\n",
    "        user=\"root\",\n",
    "        password=\"2121\",\n",
    "        database=\"schooldb\"\n",
    "    )\n",
    "    cursor = connection.cursor()\n",
    "\n",
    "    \n",
    "\n",
    "    #sql=\"select * from student \"\n",
    "    sql=\"select StudentNumber,Name,Surname  from student where geder='K'\"\n",
    "    \n",
    "    cursor.execute(sql)   \n",
    "    \n",
    "    result=cursor.fetchall()\n",
    "    \n",
    "    for i in result:\n",
    "        print(i)\n",
    "\n",
    "    cursor.close()\n",
    "    connection.close()\n",
    "\n",
    "getProductsInfo()"
   ]
  },
  {
   "cell_type": "code",
   "execution_count": null,
   "id": "e570faf6-8f50-4777-bb7f-ca3984c5b5df",
   "metadata": {},
   "outputs": [],
   "source": []
  }
 ],
 "metadata": {
  "kernelspec": {
   "display_name": "Python 3 (ipykernel)",
   "language": "python",
   "name": "python3"
  },
  "language_info": {
   "codemirror_mode": {
    "name": "ipython",
    "version": 3
   },
   "file_extension": ".py",
   "mimetype": "text/x-python",
   "name": "python",
   "nbconvert_exporter": "python",
   "pygments_lexer": "ipython3",
   "version": "3.12.7"
  }
 },
 "nbformat": 4,
 "nbformat_minor": 5
}
