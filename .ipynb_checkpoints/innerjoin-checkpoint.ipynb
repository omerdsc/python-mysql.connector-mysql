{
 "cells": [
  {
   "cell_type": "code",
   "execution_count": 22,
   "id": "db0c05b0-63e9-4b86-99c7-0ce2d2027f73",
   "metadata": {},
   "outputs": [
    {
     "name": "stdout",
     "output_type": "stream",
     "text": [
      "(9, 'macbook pro', Decimal('8000'), '4.jpg', 'iyi macbook', 2, 2, 'Bilgisayar')\n"
     ]
    }
   ],
   "source": [
    "import mysql.connector\n",
    "\n",
    "def innerJoin():\n",
    "    connection=mysql.connector.connect(\n",
    "        host=\"localhost\",\n",
    "        user=\"root\",\n",
    "        password=\"2121\",\n",
    "        database=\"node-app\"\n",
    "    )\n",
    "\n",
    "    cursor=connection.cursor()\n",
    "\n",
    "    sql=\"select * from products as p inner join categories as c on c.id=p.categoryid where c.id=2\"\n",
    "\n",
    "    cursor.execute(sql)\n",
    "\n",
    "    result=cursor.fetchall()\n",
    "\n",
    "    for i in result:\n",
    "        print(i)\n",
    "    \n",
    "    cursor.close()\n",
    "    connection.close()\n",
    "\n",
    "innerJoin()"
   ]
  },
  {
   "cell_type": "code",
   "execution_count": null,
   "id": "f277d208-3b26-4642-8217-ca78f9e71ebc",
   "metadata": {},
   "outputs": [],
   "source": []
  }
 ],
 "metadata": {
  "kernelspec": {
   "display_name": "Python 3 (ipykernel)",
   "language": "python",
   "name": "python3"
  },
  "language_info": {
   "codemirror_mode": {
    "name": "ipython",
    "version": 3
   },
   "file_extension": ".py",
   "mimetype": "text/x-python",
   "name": "python",
   "nbconvert_exporter": "python",
   "pygments_lexer": "ipython3",
   "version": "3.12.7"
  }
 },
 "nbformat": 4,
 "nbformat_minor": 5
}
