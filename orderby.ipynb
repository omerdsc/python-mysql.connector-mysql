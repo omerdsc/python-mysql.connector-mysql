{
 "cells": [
  {
   "cell_type": "code",
   "execution_count": 8,
   "id": "76cc6030-4071-4e82-beb7-b46dadd50d42",
   "metadata": {},
   "outputs": [
    {
     "name": "stdout",
     "output_type": "stream",
     "text": [
      "(8, 'samsung s8', Decimal('5000'), '2.jpg', 'iyi')\n",
      "(5, 'iphone 8', Decimal('4000'), '2.jpg', 'güzel telefon')\n",
      "(3, 'samsung s7', Decimal('3000'), '2.jpg', 'iyi telefon')\n",
      "(6, 'samsung s8', Decimal('3000'), '1.jpg', 'iyi telefon')\n",
      "(7, 'samsung s7', Decimal('3000'), '1.jpg', 'iyi')\n",
      "(2, 'samsung s6', Decimal('2000'), '1.pg', 'iyi telefon')\n",
      "(4, 'samsung s5', Decimal('1000'), '1.jpg', 'iyi telefon')\n",
      "database Bağlantısını kapattı\n"
     ]
    }
   ],
   "source": [
    "import mysql.connector\n",
    "\n",
    "def getProducts():\n",
    "    connection = mysql.connector.connect(\n",
    "        host=\"localhost\",\n",
    "        user=\"root\",\n",
    "        password=\"2121\",\n",
    "        database=\"node-app\"\n",
    "    )\n",
    "    cursor = connection.cursor()\n",
    "\n",
    "    cursor.execute(\"SELECT * FROM products order by price desc \") #çoktan aza sıralama yapılır\n",
    "    #cursor.execute(\"SELECT * FROM products order by price asc \") #azdan çoğa sıralama\n",
    "    try:\n",
    "        result = cursor.fetchall() #bulduğu tüm kayıtları bize getirir\n",
    "    except mysql.connector.Error as err:\n",
    "        print(\"hata\",err)\n",
    "        \n",
    "\n",
    "    for i in result:\n",
    "        print(i)\n",
    "\n",
    "    cursor.close()\n",
    "    connection.close()\n",
    "    print(\"database Bağlantısını kapattı\")\n",
    "\n",
    "# Test fonksiyonu:\n",
    "getProducts()\n"
   ]
  },
  {
   "cell_type": "code",
   "execution_count": null,
   "id": "504920db-4a48-4bab-b7aa-7a8522bf72a2",
   "metadata": {},
   "outputs": [],
   "source": []
  }
 ],
 "metadata": {
  "kernelspec": {
   "display_name": "Python 3 (ipykernel)",
   "language": "python",
   "name": "python3"
  },
  "language_info": {
   "codemirror_mode": {
    "name": "ipython",
    "version": 3
   },
   "file_extension": ".py",
   "mimetype": "text/x-python",
   "name": "python",
   "nbconvert_exporter": "python",
   "pygments_lexer": "ipython3",
   "version": "3.12.7"
  }
 },
 "nbformat": 4,
 "nbformat_minor": 5
}
