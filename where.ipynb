{
 "cells": [
  {
   "cell_type": "code",
   "execution_count": 25,
   "id": "a8c3dd2e-8b36-4d91-8aa2-bb49f9b5dd3e",
   "metadata": {},
   "outputs": [
    {
     "name": "stdout",
     "output_type": "stream",
     "text": [
      "(3, 'samsung s7', Decimal('3000'), '2.jpg', 'iyi telefon')\n",
      "(6, 'samsung s8', Decimal('3000'), '1.jpg', 'iyi telefon')\n",
      "(7, 'samsung s7', Decimal('3000'), '1.jpg', 'iyi')\n"
     ]
    }
   ],
   "source": [
    "import mysql.connector\n",
    "\n",
    "def insertProduct(name, price, imageUrl, description):\n",
    "    connection = mysql.connector.connect(\n",
    "        host=\"localhost\",\n",
    "        user=\"root\",\n",
    "        password=\"2121\",\n",
    "        database=\"node-app\"\n",
    "    )\n",
    "    cursor = connection.cursor()\n",
    "\n",
    "    sql = \"INSERT INTO products(name,price,imageUrl,description) VALUES(%s,%s,%s,%s)\"\n",
    "    values = (name, price, imageUrl, description)\n",
    "\n",
    "    cursor.execute(sql, values)\n",
    "\n",
    "    try:\n",
    "        connection.commit()\n",
    "        print(f\"{cursor.rowcount} tane kayıt eklendi\")\n",
    "        print(f\"Son eklenen kaydın id: {cursor.lastrowid}\")\n",
    "    except mysql.connector.Error as err:\n",
    "        print(\"Hata:\", err)\n",
    "    finally:\n",
    "        connection.close()\n",
    "        print(\"Database bağlantısı kapandı\")\n",
    "\n",
    "def insertProducts(list):\n",
    "    connection = mysql.connector.connect(\n",
    "        host=\"localhost\",\n",
    "        user=\"root\",\n",
    "        password=\"2121\",\n",
    "        database=\"node-app\"\n",
    "    )\n",
    "    cursor = connection.cursor()\n",
    "\n",
    "    sql = \"INSERT INTO products(name,price,imageUrl,description) VALUES(%s,%s,%s,%s)\"\n",
    "    values = list\n",
    "\n",
    "    cursor.executemany(sql, values)\n",
    "\n",
    "    try:\n",
    "        connection.commit()\n",
    "        print(f\"{cursor.rowcount} tane kayıt eklendi\")\n",
    "        print(f\"Son eklenen kaydın id: {cursor.lastrowid}\")\n",
    "    except mysql.connector.Error as err:\n",
    "        print(\"Hata:\", err)\n",
    "    finally:\n",
    "        connection.close()\n",
    "        print(\"Database bağlantısı kapandı\")\n",
    "\n",
    "def getProducts():\n",
    "    connection = mysql.connector.connect(\n",
    "        host=\"localhost\",\n",
    "        user=\"root\",\n",
    "        password=\"2121\",\n",
    "        database=\"node-app\"\n",
    "    )\n",
    "    cursor = connection.cursor()\n",
    "    #cursor.execute(\"SELECT * FROM products Where name='samsung s8' and price = 3000 \")\n",
    "    cursor.execute(\"SELECT * FROM products Where name LIKE '%samsung%' and price=3000 \")\n",
    "    #cursor.execute(\"select name,price from products Where name='samsung s6'\")\n",
    "    result = cursor.fetchall() #bulduğu tüm kayıtları bize getirir\n",
    "    #print(cursor.fetchone())#tek bir kayıt getirir )\n",
    "\n",
    "    for i in result:\n",
    "        print(i)\n",
    "\n",
    "    cursor.close()\n",
    "    connection.close()\n",
    "\n",
    "# Test fonksiyonu:\n",
    "getProducts()\n"
   ]
  },
  {
   "cell_type": "code",
   "execution_count": 38,
   "id": "db50dbef-9dc3-4be2-934e-85721bd64602",
   "metadata": {},
   "outputs": [
    {
     "name": "stdout",
     "output_type": "stream",
     "text": [
      "id:3 name: samsung s7 price: 3000\n"
     ]
    }
   ],
   "source": [
    "import mysql.connector\n",
    "\n",
    "def getProductsById(ide):\n",
    "    connection = mysql.connector.connect(\n",
    "        host=\"localhost\",\n",
    "        user=\"root\",\n",
    "        password=\"2121\",\n",
    "        database=\"node-app\"\n",
    "    )\n",
    "    cursor = connection.cursor()\n",
    "\n",
    "    sql=\"SELECT * FROM products Where ıd =%s \"\n",
    "    params=(ide,)\n",
    "    cursor.execute(sql,params)   \n",
    "    \n",
    "    result=cursor.fetchone()\n",
    "    \n",
    "    print(f\"id:{result[0]} name: {result[1]} price: {result[2]}\")\n",
    "\n",
    "    cursor.close()\n",
    "    connection.close()\n",
    "\n",
    "getProductsById(3)"
   ]
  },
  {
   "cell_type": "code",
   "execution_count": null,
   "id": "39133ca3-8a93-40bb-908d-ca365effb4e1",
   "metadata": {},
   "outputs": [],
   "source": []
  }
 ],
 "metadata": {
  "kernelspec": {
   "display_name": "Python 3 (ipykernel)",
   "language": "python",
   "name": "python3"
  },
  "language_info": {
   "codemirror_mode": {
    "name": "ipython",
    "version": 3
   },
   "file_extension": ".py",
   "mimetype": "text/x-python",
   "name": "python",
   "nbconvert_exporter": "python",
   "pygments_lexer": "ipython3",
   "version": "3.12.7"
  }
 },
 "nbformat": 4,
 "nbformat_minor": 5
}
