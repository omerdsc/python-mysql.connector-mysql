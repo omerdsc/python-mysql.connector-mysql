{
 "cells": [
  {
   "cell_type": "code",
   "execution_count": 9,
   "id": "e1335816-e217-463d-9692-be56aaa2b178",
   "metadata": {},
   "outputs": [],
   "source": [
    "import mysql.connector\n",
    "\n",
    "mydb = mysql.connector.connect( #my sql e bağlantı yaptı\n",
    "    host=\"localhost\",\n",
    "    user=\"root\",\n",
    "    password=\"2121\",  # Burada yeni şifrenizi kullanın\n",
    "    database=\"node-app\" #databasemize bağlanıyoruz\n",
    ")\n",
    "\n",
    "mycursor = mydb.cursor()\n",
    "#mycursor.execute(\"CREATE DATABASE mydatabase\") #server üzerinden bir tane database oluşturdu\n",
    "\n"
   ]
  },
  {
   "cell_type": "code",
   "execution_count": 10,
   "id": "30f8c885-d5be-4efc-87ee-aed86d16fc0a",
   "metadata": {},
   "outputs": [
    {
     "name": "stdout",
     "output_type": "stream",
     "text": [
      "('information_schema',)\n",
      "('mydatabase',)\n",
      "('mysql',)\n",
      "('node-app',)\n",
      "('performance_schema',)\n",
      "('sys',)\n"
     ]
    }
   ],
   "source": [
    "mycursor.execute(\"SHOW DATABASES\") # serverdeki bütün databse leri gözterecek\n",
    "\n",
    "\n",
    "for i in mycursor:\n",
    "    print(i)"
   ]
  },
  {
   "cell_type": "code",
   "execution_count": null,
   "id": "9231244d-5fca-4121-9041-c57faff89a71",
   "metadata": {},
   "outputs": [],
   "source": []
  }
 ],
 "metadata": {
  "kernelspec": {
   "display_name": "Python 3 (ipykernel)",
   "language": "python",
   "name": "python3"
  },
  "language_info": {
   "codemirror_mode": {
    "name": "ipython",
    "version": 3
   },
   "file_extension": ".py",
   "mimetype": "text/x-python",
   "name": "python",
   "nbconvert_exporter": "python",
   "pygments_lexer": "ipython3",
   "version": "3.12.7"
  }
 },
 "nbformat": 4,
 "nbformat_minor": 5
}
