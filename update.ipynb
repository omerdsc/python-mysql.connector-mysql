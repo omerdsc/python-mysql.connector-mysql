{
 "cells": [
  {
   "cell_type": "code",
   "execution_count": 25,
   "id": "66b8d8e5-e135-490c-8b54-aa64006f812d",
   "metadata": {},
   "outputs": [
    {
     "name": "stdout",
     "output_type": "stream",
     "text": [
      "1 tane kayıt güncellendi\n",
      "database bağlantısı kapandı\n",
      "(2, 'Iphone 8', Decimal('6000'), '1.pg', 'iyi telefon')\n",
      "(3, 'samsung s7', Decimal('3000'), '2.jpg', 'iyi telefon')\n",
      "(4, 'samsung s5', Decimal('1000'), '1.jpg', 'iyi telefon')\n",
      "(5, 'samsung s10', Decimal('4000'), '2.jpg', 'güzel telefon')\n",
      "(6, 'samsung s10', Decimal('5000'), '1.jpg', 'iyi telefon')\n",
      "(7, 'samsung s7', Decimal('3000'), '1.jpg', 'iyi')\n",
      "(8, 'samsung s8', Decimal('5000'), '2.jpg', 'iyi')\n"
     ]
    }
   ],
   "source": [
    "import mysql.connector\n",
    "\n",
    "def getproductsSelect():\n",
    "    connection = mysql.connector.connect(\n",
    "        host=\"localhost\",\n",
    "        user=\"root\",\n",
    "        password=\"2121\",\n",
    "        database=\"node-app\"\n",
    "    )\n",
    "    \n",
    "    cursor=connection.cursor()\n",
    "\n",
    "    cursor.execute(\"select * from products\")\n",
    "\n",
    "    result=cursor.fetchall()\n",
    "\n",
    "    for i in result:\n",
    "        print(i)\n",
    "    \n",
    "    cursor.close()\n",
    "    connection.close()\n",
    "\n",
    "def uptadeProducts(ide,name,price):\n",
    "    connection = mysql.connector.connect(\n",
    "        host=\"localhost\",\n",
    "        user=\"root\",\n",
    "        password=\"2121\",\n",
    "        database=\"node-app\"\n",
    "    )\n",
    "    cursor = connection.cursor()\n",
    "\n",
    "    sql=\"UPDATE products SET name=%s, price=%s where ıd=%s\"\n",
    "    params=(name,price,ide)\n",
    "    \n",
    "    cursor.execute(sql,params)  \n",
    "\n",
    "    try:\n",
    "        connection.commit()\n",
    "        print(f\"{cursor.rowcount} tane kayıt güncellendi\")\n",
    "    except mysql.connector.Error as err:\n",
    "        print(\"hata\",err)\n",
    "    \n",
    "    \n",
    "\n",
    "    cursor.close()\n",
    "    connection.close()\n",
    "    print(\"database bağlantısı kapandı\")\n",
    "\n",
    "uptadeProducts(2, \"Iphone 8\", 6000)\n",
    "getproductsSelect()"
   ]
  },
  {
   "cell_type": "code",
   "execution_count": null,
   "id": "839fa3d5-7335-479e-a09b-a9c73a01951b",
   "metadata": {},
   "outputs": [],
   "source": []
  }
 ],
 "metadata": {
  "kernelspec": {
   "display_name": "Python 3 (ipykernel)",
   "language": "python",
   "name": "python3"
  },
  "language_info": {
   "codemirror_mode": {
    "name": "ipython",
    "version": 3
   },
   "file_extension": ".py",
   "mimetype": "text/x-python",
   "name": "python",
   "nbconvert_exporter": "python",
   "pygments_lexer": "ipython3",
   "version": "3.12.7"
  }
 },
 "nbformat": 4,
 "nbformat_minor": 5
}
