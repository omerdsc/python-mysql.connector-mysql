{
 "cells": [
  {
   "cell_type": "code",
   "execution_count": 20,
   "id": "5152bc17-2f5f-4fdb-926d-2e24354132d8",
   "metadata": {},
   "outputs": [],
   "source": [
    "import sqlite3"
   ]
  },
  {
   "cell_type": "code",
   "execution_count": 21,
   "id": "2071ef3c-63d8-451a-9754-da7ac0a8a94c",
   "metadata": {},
   "outputs": [],
   "source": [
    "connection=sqlite3.connect(\"chinook.db\")"
   ]
  },
  {
   "cell_type": "code",
   "execution_count": 22,
   "id": "1db2acba-f64f-43ba-86f5-1734c400ce58",
   "metadata": {},
   "outputs": [
    {
     "name": "stdout",
     "output_type": "stream",
     "text": [
      "(1, 'Luís', 'Gonçalves', 'Embraer - Empresa Brasileira de Aeronáutica S.A.', 'Av. Brigadeiro Faria Lima, 2170')\n",
      "(2, 'Leonie', 'Köhler', None, 'Theodor-Heuss-Straße 34')\n",
      "(3, 'François', 'Tremblay', None, '1498 rue Bélanger')\n",
      "(4, 'Bjørn', 'Hansen', None, 'Ullevålsveien 14')\n",
      "(5, 'František', 'Wichterlová', 'JetBrains s.r.o.', 'Klanova 9/506')\n",
      "(6, 'Helena', 'Holý', None, 'Rilská 3174/6')\n",
      "(7, 'Astrid', 'Gruber', None, 'Rotenturmstraße 4, 1010 Innere Stadt')\n",
      "(8, 'Daan', 'Peeters', None, 'Grétrystraat 63')\n",
      "(9, 'Kara', 'Nielsen', None, 'Sønder Boulevard 51')\n",
      "(10, 'Eduardo', 'Martins', 'Woodstock Discos', 'Rua Dr. Falcão Filho, 155')\n",
      "(11, 'Alexandre', 'Rocha', 'Banco do Brasil S.A.', 'Av. Paulista, 2022')\n",
      "(12, 'Roberto', 'Almeida', 'Riotur', 'Praça Pio X, 119')\n",
      "(13, 'Fernanda', 'Ramos', None, 'Qe 7 Bloco G')\n",
      "(14, 'Mark', 'Philips', 'Telus', '8210 111 ST NW')\n",
      "(15, 'Jennifer', 'Peterson', 'Rogers Canada', '700 W Pender Street')\n",
      "(16, 'Frank', 'Harris', 'Google Inc.', '1600 Amphitheatre Parkway')\n",
      "(17, 'Jack', 'Smith', 'Microsoft Corporation', '1 Microsoft Way')\n",
      "(18, 'Michelle', 'Brooks', None, '627 Broadway')\n",
      "(19, 'Tim', 'Goyer', 'Apple Inc.', '1 Infinite Loop')\n",
      "(20, 'Dan', 'Miller', None, '541 Del Medio Avenue')\n",
      "(21, 'Kathy', 'Chase', None, '801 W 4th Street')\n",
      "(22, 'Heather', 'Leacock', None, '120 S Orange Ave')\n",
      "(23, 'John', 'Gordon', None, '69 Salem Street')\n",
      "(24, 'Frank', 'Ralston', None, '162 E Superior Street')\n",
      "(25, 'Victor', 'Stevens', None, '319 N. Frances Street')\n",
      "(26, 'Richard', 'Cunningham', None, '2211 W Berry Street')\n",
      "(27, 'Patrick', 'Gray', None, '1033 N Park Ave')\n",
      "(28, 'Julia', 'Barnett', None, '302 S 700 E')\n",
      "(29, 'Robert', 'Brown', None, '796 Dundas Street West')\n",
      "(30, 'Edward', 'Francis', None, '230 Elgin Street')\n",
      "(31, 'Martha', 'Silk', None, '194A Chain Lake Drive')\n",
      "(32, 'Aaron', 'Mitchell', None, '696 Osborne Street')\n",
      "(33, 'Ellie', 'Sullivan', None, '5112 48 Street')\n",
      "(34, 'João', 'Fernandes', None, 'Rua da Assunção 53')\n",
      "(35, 'Madalena', 'Sampaio', None, 'Rua dos Campeões Europeus de Viena, 4350')\n",
      "(36, 'Hannah', 'Schneider', None, 'Tauentzienstraße 8')\n",
      "(37, 'Fynn', 'Zimmermann', None, 'Berger Straße 10')\n",
      "(38, 'Niklas', 'Schröder', None, 'Barbarossastraße 19')\n",
      "(39, 'Camille', 'Bernard', None, '4, Rue Milton')\n",
      "(40, 'Dominique', 'Lefebvre', None, '8, Rue Hanovre')\n",
      "(41, 'Marc', 'Dubois', None, '11, Place Bellecour')\n",
      "(42, 'Wyatt', 'Girard', None, '9, Place Louis Barthou')\n",
      "(43, 'Isabelle', 'Mercier', None, '68, Rue Jouvence')\n",
      "(44, 'Terhi', 'Hämäläinen', None, 'Porthaninkatu 9')\n",
      "(45, 'Ladislav', 'Kovács', None, 'Erzsébet krt. 58.')\n",
      "(46, 'Hugh', \"O'Reilly\", None, '3 Chatham Street')\n",
      "(47, 'Lucas', 'Mancini', None, 'Via Degli Scipioni, 43')\n",
      "(48, 'Johannes', 'Van der Berg', None, 'Lijnbaansgracht 120bg')\n",
      "(49, 'Stanisław', 'Wójcik', None, 'Ordynacka 10')\n",
      "(50, 'Enrique', 'Muñoz', None, 'C/ San Bernardo 85')\n",
      "(51, 'Joakim', 'Johansson', None, 'Celsiusg. 9')\n",
      "(52, 'Emma', 'Jones', None, '202 Hoxton Street')\n",
      "(53, 'Phil', 'Hughes', None, '113 Lupus St')\n",
      "(54, 'Steve', 'Murray', None, '110 Raeburn Pl')\n",
      "(55, 'Mark', 'Taylor', None, '421 Bourke Street')\n",
      "(56, 'Diego', 'Gutiérrez', None, '307 Macacha Güemes')\n",
      "(57, 'Luis', 'Rojas', None, 'Calle Lira, 198')\n",
      "(58, 'Manoj', 'Pareek', None, '12,Community Centre')\n",
      "(59, 'Puja', 'Srivastava', None, '3,Raj Bhavan Road')\n"
     ]
    }
   ],
   "source": [
    "cursor=connection.cursor()\n",
    "\n",
    "cursor.execute(\"select * from customers\")\n",
    "\n",
    "result=cursor.fetchall()\n",
    "for i in result:\n",
    "    print(i[0:5])\n",
    "connection.close()"
   ]
  },
  {
   "cell_type": "code",
   "execution_count": null,
   "id": "8cbe02ab-202d-46f1-9034-754cb5101f21",
   "metadata": {},
   "outputs": [],
   "source": []
  }
 ],
 "metadata": {
  "kernelspec": {
   "display_name": "Python 3 (ipykernel)",
   "language": "python",
   "name": "python3"
  },
  "language_info": {
   "codemirror_mode": {
    "name": "ipython",
    "version": 3
   },
   "file_extension": ".py",
   "mimetype": "text/x-python",
   "name": "python",
   "nbconvert_exporter": "python",
   "pygments_lexer": "ipython3",
   "version": "3.12.4"
  }
 },
 "nbformat": 4,
 "nbformat_minor": 5
}
